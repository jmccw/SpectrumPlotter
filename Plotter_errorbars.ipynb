{
 "cells": [
  {
   "cell_type": "code",
   "execution_count": 18,
   "id": "dcafc025",
   "metadata": {},
   "outputs": [
    {
     "name": "stdout",
     "output_type": "stream",
     "text": [
      "Z:/PY4113/Mach Zedner/Mach Zedner/LvsT10mWfinal.txt\n"
     ]
    },
    {
     "data": {
      "text/plain": [
       "<Figure size 640x480 with 0 Axes>"
      ]
     },
     "metadata": {},
     "output_type": "display_data"
    },
    {
     "data": {
      "image/png": "[encoded data removed]",
      "text/plain": [
       "<Figure size 640x480 with 1 Axes>"
      ]
     },
     "metadata": {},
     "output_type": "display_data"
    }
   ],
   "source": [
    "from glob import glob\n",
    "import numpy as np\n",
    "import matplotlib.pyplot as plt \n",
    "import os\n",
    "from pylab import *\n",
    "import sys\n",
    "import tkinter\n",
    "from tkinter import filedialog\n",
    "\n",
    "index = 0\n",
    "peaks = []\n",
    "data = []\n",
    "h = 6.62607015e-34 #planck\n",
    "c = 2.99792458e8 #speed of light\n",
    "e = 1.60217663e-19 #electron\n",
    "k = 1.380649e-23 #boltzmann\n",
    "J_eV = 1/(6.242e18) #Joules / eV\n",
    "i = 0\n",
    "\n",
    "#FORMAT:\n",
    "#   X | Y | Y_MAX | Y_MIN\n",
    "\n",
    "PLOT_LIMIT = [20, 26]\n",
    "Y_LIMIT = [] # enforced only for log plots [lower, upper] - leave blank for auto\n",
    "ERROR_BARS = False\n",
    "\n",
    "\n",
    "def plot_graph(x, y): #create a single plot\n",
    "    labels = []\n",
    "    plt.figure()\n",
    "    #plt.xlim(PLOT_LIMIT)\n",
    "    fig, ax = plt.subplots()\n",
    "    plt.title(f\"\")\n",
    "    plt.xlabel(label_x, fontsize=9)\n",
    "    plt.ylabel(label_y,  fontsize=9)\n",
    "    plt.xticks(fontsize = 7)\n",
    "    plt.yticks(fontsize = 7)\n",
    "    \n",
    "    right_side = ax.spines[\"right\"]\n",
    "    top_side = ax.spines[\"top\"]\n",
    "    right_side.set_visible(False)\n",
    "    top_side.set_visible(False)\n",
    "    if(ERROR_BARS == True):\n",
    "        plt.errorbar(x, y, yerr=y_err, linewidth = 0.75, color = 'dimgrey', marker = 's', markersize = 5, markerfacecolor='dimgrey')\n",
    "    else:\n",
    "        plt.plot(x, y, linewidth = 0.75, color = 'dimgrey', marker = 's', markersize = 5, markerfacecolor='dimgrey')\n",
    "\n",
    "    plt.grid(True, alpha=0.2)\n",
    "    labels = np.array(labels)\n",
    "    plt.savefig(f'{file}_figure.png', dpi = 1000, bbox_inches='tight')\n",
    "    plt.show()\n",
    "\n",
    "file_path = filedialog.askopenfilename()\n",
    "file = os.path.splitext(file_path)[0]\n",
    "print(file_path)\n",
    "rc('axes', linewidth=1)\n",
    "plt.rcParams[\"font.weight\"] = \"normal\"\n",
    "plt.rcParams[\"axes.labelweight\"] = \"normal\"\n",
    "plt.rcParams[\"font.family\"] = \"monospace\"\n",
    "\n",
    "f = open(file_path)\n",
    "labels = f.readlines()[:1]\n",
    "close(file_path)\n",
    "\n",
    "f = open(file_path)\n",
    "lines = f.readlines()[1:]\n",
    "close(file_path)\n",
    "\n",
    "label_x = labels[0].split()[0]\n",
    "label_y = labels[0].split()[1]\n",
    "x = [float(line.split()[0]) for line in lines]\n",
    "y = [float(line.split()[1]) for line in lines]\n",
    "if(ERROR_BARS == True):\n",
    "    y_err_max = [float(line.split()[2]) for line in lines]\n",
    "    y_err_min = [float(line.split()[3]) for line in lines]\n",
    "    y_err_min = np.subtract(y, y_err_min)\n",
    "    y_err_max = np.subtract(y_err_max, y)\n",
    "    y_err = [y_err_min, y_err_max]\n",
    "    \n",
    "plot_graph(x, y)"
   ]
  },
  {
   "cell_type": "code",
   "execution_count": null,
   "id": "579ff0e7",
   "metadata": {},
   "outputs": [],
   "source": []
  }
 ],
 "metadata": {
  "kernelspec": {
   "display_name": "Python 3 (ipykernel)",
   "language": "python",
   "name": "python3"
  },
  "language_info": {
   "codemirror_mode": {
    "name": "ipython",
    "version": 3
   },
   "file_extension": ".py",
   "mimetype": "text/x-python",
   "name": "python",
   "nbconvert_exporter": "python",
   "pygments_lexer": "ipython3",
   "version": "3.9.13"
  }
 },
 "nbformat": 4,
 "nbformat_minor": 5
}
